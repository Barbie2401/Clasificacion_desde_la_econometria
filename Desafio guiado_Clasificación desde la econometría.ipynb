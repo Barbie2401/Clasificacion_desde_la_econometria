{
 "cells": [
  {
   "cell_type": "markdown",
   "id": "2504ad01",
   "metadata": {},
   "source": [
    "# <center><font color='MediumSeaGreen'>Desafío - Clasificación desde la econometría </font><center>\n",
    "\n",
    "### <center><b> Bárbara Pérez </b><center>"
   ]
  },
  {
   "cell_type": "markdown",
   "id": "e2cbb8e3",
   "metadata": {},
   "source": [
    "___"
   ]
  },
  {
   "cell_type": "markdown",
   "id": "4707e771",
   "metadata": {},
   "source": [
    "## <font color='MediumSeaGreen'>Descripción</font>"
   ]
  },
  {
   "cell_type": "markdown",
   "id": "8c1bfd98",
   "metadata": {},
   "source": [
    "En esta sesión trabajaremos el dataset south african heart, el cual contiene las siguientes variables:\n",
    "\n",
    "● <span style='background:gainsboro'><font color='dimgray'>sbp</font></span> : Presión Sanguínea Sistólica.\n",
    "\n",
    "● <span style='background:gainsboro'><font color='dimgray'>tobacco</font></span> : Promedio tabaco consumido por día.\n",
    "\n",
    "● <span style='background:gainsboro'><font color='dimgray'>ldl</font></span> : Lipoproteína de baja densidad.\n",
    "\n",
    "● <span style='background:gainsboro'><font color='dimgray'>adiposity</font></span> : Adiposidad.\n",
    "\n",
    "● <span style='background:gainsboro'><font color='dimgray'>famhist</font></span> : Antecedentes familiares de enfermedades cardiácas. (Binaria).\n",
    "\n",
    "● <span style='background:gainsboro'><font color='dimgray'>types</font></span> : Personalidad tipo A.\n",
    "\n",
    "● <span style='background:gainsboro'><font color='dimgray'>obesity</font></span> : Obesidad.\n",
    "\n",
    "● <span style='background:gainsboro'><font color='dimgray'>alcohol</font></span> : Consumo actual de alcohol.\n",
    "\n",
    "● <span style='background:gainsboro'><font color='dimgray'>age</font></span> : edad.\n",
    "\n",
    "● <span style='background:gainsboro'><font color='dimgray'>chd</font></span> : Enfermedad coronaria. (dummy).\n",
    "\n"
   ]
  },
  {
   "cell_type": "markdown",
   "id": "f9e39725",
   "metadata": {},
   "source": [
    "_____"
   ]
  },
  {
   "cell_type": "markdown",
   "id": "de20b065",
   "metadata": {},
   "source": [
    "## <font color='MediumSeaGreen'>Desafío 1: Preparación del ambiente de trabajo</font> "
   ]
  },
  {
   "cell_type": "markdown",
   "id": "b38c767f",
   "metadata": {},
   "source": [
    "● Cargue las librerías básicas para importación y manipulación de datos (numpy, pandas), gráficos (matplotlib y seaborn) y de modelación econométrica (statsmodels).\n",
    "\n",
    "● Importe el archivo southafricanheart.csv que se encuentra dentro del material de apoyo.\n",
    "\n",
    "● Realice una descripción del set importado mostrando:\n",
    "\n",
    "- lista con los nombres de variables importadas\n",
    "   \n",
    "- un análisis descriptivo mediante <span style='background:gainsboro'><font color='dimgray'>.describe()</font></span>\n",
    "   \n",
    "- Distribución de categorías para las variables <span style='background:gainsboro'><font color='dimgray'>famhist</font></span> y <span style='background:gainsboro'><font color='dimgray'>chd</font></span>."
   ]
  },
  {
   "cell_type": "code",
   "execution_count": 1,
   "id": "03cf3c43",
   "metadata": {},
   "outputs": [],
   "source": [
    "#importamos las librerías de siempre\n",
    "\n",
    "#manipulación de datos \n",
    "import pandas as pd\n",
    "import numpy as np\n",
    "\n",
    "#Graficos\n",
    "import matplotlib.pyplot as plt\n",
    "import statsmodels.formula.api as smf\n",
    "\n",
    "#modelación econométrica\n",
    "import scipy.stats as stats\n",
    "from scipy.stats import norm\n",
    "from sklearn.preprocessing import PolynomialFeatures as polynom\n",
    "from sklearn.linear_model import LinearRegression as linreg\n",
    "from sklearn.pipeline import make_pipeline\n",
    "\n",
    "\n",
    "plt.style.use('seaborn-whitegrid')\n",
    "\n",
    "\n",
    "import warnings\n",
    "warnings.filterwarnings(\"ignore\")"
   ]
  },
  {
   "cell_type": "code",
   "execution_count": 2,
   "id": "c9985a58",
   "metadata": {},
   "outputs": [],
   "source": [
    "#importamos el dataframe\n",
    "df = pd.read_csv('southafricanheart.csv')"
   ]
  },
  {
   "cell_type": "code",
   "execution_count": 3,
   "id": "20e9449e",
   "metadata": {},
   "outputs": [
    {
     "data": {
      "text/html": [
       "<div>\n",
       "<style scoped>\n",
       "    .dataframe tbody tr th:only-of-type {\n",
       "        vertical-align: middle;\n",
       "    }\n",
       "\n",
       "    .dataframe tbody tr th {\n",
       "        vertical-align: top;\n",
       "    }\n",
       "\n",
       "    .dataframe thead th {\n",
       "        text-align: right;\n",
       "    }\n",
       "</style>\n",
       "<table border=\"1\" class=\"dataframe\">\n",
       "  <thead>\n",
       "    <tr style=\"text-align: right;\">\n",
       "      <th></th>\n",
       "      <th>Unnamed: 0</th>\n",
       "      <th>sbp</th>\n",
       "      <th>tobacco</th>\n",
       "      <th>ldl</th>\n",
       "      <th>adiposity</th>\n",
       "      <th>famhist</th>\n",
       "      <th>typea</th>\n",
       "      <th>obesity</th>\n",
       "      <th>alcohol</th>\n",
       "      <th>age</th>\n",
       "      <th>chd</th>\n",
       "    </tr>\n",
       "  </thead>\n",
       "  <tbody>\n",
       "    <tr>\n",
       "      <th>0</th>\n",
       "      <td>1</td>\n",
       "      <td>160</td>\n",
       "      <td>12.00</td>\n",
       "      <td>5.73</td>\n",
       "      <td>23.11</td>\n",
       "      <td>Present</td>\n",
       "      <td>49</td>\n",
       "      <td>25.30</td>\n",
       "      <td>97.20</td>\n",
       "      <td>52</td>\n",
       "      <td>1</td>\n",
       "    </tr>\n",
       "    <tr>\n",
       "      <th>1</th>\n",
       "      <td>2</td>\n",
       "      <td>144</td>\n",
       "      <td>0.01</td>\n",
       "      <td>4.41</td>\n",
       "      <td>28.61</td>\n",
       "      <td>Absent</td>\n",
       "      <td>55</td>\n",
       "      <td>28.87</td>\n",
       "      <td>2.06</td>\n",
       "      <td>63</td>\n",
       "      <td>1</td>\n",
       "    </tr>\n",
       "    <tr>\n",
       "      <th>2</th>\n",
       "      <td>3</td>\n",
       "      <td>118</td>\n",
       "      <td>0.08</td>\n",
       "      <td>3.48</td>\n",
       "      <td>32.28</td>\n",
       "      <td>Present</td>\n",
       "      <td>52</td>\n",
       "      <td>29.14</td>\n",
       "      <td>3.81</td>\n",
       "      <td>46</td>\n",
       "      <td>0</td>\n",
       "    </tr>\n",
       "    <tr>\n",
       "      <th>3</th>\n",
       "      <td>4</td>\n",
       "      <td>170</td>\n",
       "      <td>7.50</td>\n",
       "      <td>6.41</td>\n",
       "      <td>38.03</td>\n",
       "      <td>Present</td>\n",
       "      <td>51</td>\n",
       "      <td>31.99</td>\n",
       "      <td>24.26</td>\n",
       "      <td>58</td>\n",
       "      <td>1</td>\n",
       "    </tr>\n",
       "    <tr>\n",
       "      <th>4</th>\n",
       "      <td>5</td>\n",
       "      <td>134</td>\n",
       "      <td>13.60</td>\n",
       "      <td>3.50</td>\n",
       "      <td>27.78</td>\n",
       "      <td>Present</td>\n",
       "      <td>60</td>\n",
       "      <td>25.99</td>\n",
       "      <td>57.34</td>\n",
       "      <td>49</td>\n",
       "      <td>1</td>\n",
       "    </tr>\n",
       "  </tbody>\n",
       "</table>\n",
       "</div>"
      ],
      "text/plain": [
       "   Unnamed: 0  sbp  tobacco   ldl  adiposity  famhist  typea  obesity  \\\n",
       "0           1  160    12.00  5.73      23.11  Present     49    25.30   \n",
       "1           2  144     0.01  4.41      28.61   Absent     55    28.87   \n",
       "2           3  118     0.08  3.48      32.28  Present     52    29.14   \n",
       "3           4  170     7.50  6.41      38.03  Present     51    31.99   \n",
       "4           5  134    13.60  3.50      27.78  Present     60    25.99   \n",
       "\n",
       "   alcohol  age  chd  \n",
       "0    97.20   52    1  \n",
       "1     2.06   63    1  \n",
       "2     3.81   46    0  \n",
       "3    24.26   58    1  \n",
       "4    57.34   49    1  "
      ]
     },
     "execution_count": 3,
     "metadata": {},
     "output_type": "execute_result"
    }
   ],
   "source": [
    "#revisamos el dataframe\n",
    "df.head()"
   ]
  },
  {
   "cell_type": "code",
   "execution_count": 4,
   "id": "0ea7a242",
   "metadata": {},
   "outputs": [],
   "source": [
    "df = df.drop(columns='Unnamed: 0')"
   ]
  },
  {
   "cell_type": "code",
   "execution_count": 5,
   "id": "fe56b028",
   "metadata": {},
   "outputs": [
    {
     "name": "stdout",
     "output_type": "stream",
     "text": [
      "<class 'pandas.core.frame.DataFrame'>\n",
      "RangeIndex: 462 entries, 0 to 461\n",
      "Data columns (total 10 columns):\n",
      " #   Column     Non-Null Count  Dtype  \n",
      "---  ------     --------------  -----  \n",
      " 0   sbp        462 non-null    int64  \n",
      " 1   tobacco    462 non-null    float64\n",
      " 2   ldl        462 non-null    float64\n",
      " 3   adiposity  462 non-null    float64\n",
      " 4   famhist    462 non-null    object \n",
      " 5   typea      462 non-null    int64  \n",
      " 6   obesity    462 non-null    float64\n",
      " 7   alcohol    462 non-null    float64\n",
      " 8   age        462 non-null    int64  \n",
      " 9   chd        462 non-null    int64  \n",
      "dtypes: float64(5), int64(4), object(1)\n",
      "memory usage: 36.2+ KB\n"
     ]
    }
   ],
   "source": [
    "#informacion donde aparece lista con los nombres de variables importadas\n",
    "df.info()"
   ]
  },
  {
   "cell_type": "code",
   "execution_count": 6,
   "id": "467c3ae5",
   "metadata": {},
   "outputs": [
    {
     "data": {
      "text/html": [
       "<div>\n",
       "<style scoped>\n",
       "    .dataframe tbody tr th:only-of-type {\n",
       "        vertical-align: middle;\n",
       "    }\n",
       "\n",
       "    .dataframe tbody tr th {\n",
       "        vertical-align: top;\n",
       "    }\n",
       "\n",
       "    .dataframe thead th {\n",
       "        text-align: right;\n",
       "    }\n",
       "</style>\n",
       "<table border=\"1\" class=\"dataframe\">\n",
       "  <thead>\n",
       "    <tr style=\"text-align: right;\">\n",
       "      <th></th>\n",
       "      <th>sbp</th>\n",
       "      <th>tobacco</th>\n",
       "      <th>ldl</th>\n",
       "      <th>adiposity</th>\n",
       "      <th>famhist</th>\n",
       "      <th>typea</th>\n",
       "      <th>obesity</th>\n",
       "      <th>alcohol</th>\n",
       "      <th>age</th>\n",
       "      <th>chd</th>\n",
       "    </tr>\n",
       "  </thead>\n",
       "  <tbody>\n",
       "    <tr>\n",
       "      <th>0</th>\n",
       "      <td>160</td>\n",
       "      <td>12.00</td>\n",
       "      <td>5.73</td>\n",
       "      <td>23.11</td>\n",
       "      <td>Present</td>\n",
       "      <td>49</td>\n",
       "      <td>25.30</td>\n",
       "      <td>97.20</td>\n",
       "      <td>52</td>\n",
       "      <td>1</td>\n",
       "    </tr>\n",
       "    <tr>\n",
       "      <th>1</th>\n",
       "      <td>144</td>\n",
       "      <td>0.01</td>\n",
       "      <td>4.41</td>\n",
       "      <td>28.61</td>\n",
       "      <td>Absent</td>\n",
       "      <td>55</td>\n",
       "      <td>28.87</td>\n",
       "      <td>2.06</td>\n",
       "      <td>63</td>\n",
       "      <td>1</td>\n",
       "    </tr>\n",
       "    <tr>\n",
       "      <th>2</th>\n",
       "      <td>118</td>\n",
       "      <td>0.08</td>\n",
       "      <td>3.48</td>\n",
       "      <td>32.28</td>\n",
       "      <td>Present</td>\n",
       "      <td>52</td>\n",
       "      <td>29.14</td>\n",
       "      <td>3.81</td>\n",
       "      <td>46</td>\n",
       "      <td>0</td>\n",
       "    </tr>\n",
       "    <tr>\n",
       "      <th>3</th>\n",
       "      <td>170</td>\n",
       "      <td>7.50</td>\n",
       "      <td>6.41</td>\n",
       "      <td>38.03</td>\n",
       "      <td>Present</td>\n",
       "      <td>51</td>\n",
       "      <td>31.99</td>\n",
       "      <td>24.26</td>\n",
       "      <td>58</td>\n",
       "      <td>1</td>\n",
       "    </tr>\n",
       "    <tr>\n",
       "      <th>4</th>\n",
       "      <td>134</td>\n",
       "      <td>13.60</td>\n",
       "      <td>3.50</td>\n",
       "      <td>27.78</td>\n",
       "      <td>Present</td>\n",
       "      <td>60</td>\n",
       "      <td>25.99</td>\n",
       "      <td>57.34</td>\n",
       "      <td>49</td>\n",
       "      <td>1</td>\n",
       "    </tr>\n",
       "  </tbody>\n",
       "</table>\n",
       "</div>"
      ],
      "text/plain": [
       "   sbp  tobacco   ldl  adiposity  famhist  typea  obesity  alcohol  age  chd\n",
       "0  160    12.00  5.73      23.11  Present     49    25.30    97.20   52    1\n",
       "1  144     0.01  4.41      28.61   Absent     55    28.87     2.06   63    1\n",
       "2  118     0.08  3.48      32.28  Present     52    29.14     3.81   46    0\n",
       "3  170     7.50  6.41      38.03  Present     51    31.99    24.26   58    1\n",
       "4  134    13.60  3.50      27.78  Present     60    25.99    57.34   49    1"
      ]
     },
     "execution_count": 6,
     "metadata": {},
     "output_type": "execute_result"
    }
   ],
   "source": [
    "df.head()"
   ]
  },
  {
   "cell_type": "code",
   "execution_count": 7,
   "id": "42e1eb15",
   "metadata": {},
   "outputs": [
    {
     "data": {
      "text/html": [
       "<div>\n",
       "<style scoped>\n",
       "    .dataframe tbody tr th:only-of-type {\n",
       "        vertical-align: middle;\n",
       "    }\n",
       "\n",
       "    .dataframe tbody tr th {\n",
       "        vertical-align: top;\n",
       "    }\n",
       "\n",
       "    .dataframe thead th {\n",
       "        text-align: right;\n",
       "    }\n",
       "</style>\n",
       "<table border=\"1\" class=\"dataframe\">\n",
       "  <thead>\n",
       "    <tr style=\"text-align: right;\">\n",
       "      <th></th>\n",
       "      <th>sbp</th>\n",
       "      <th>tobacco</th>\n",
       "      <th>ldl</th>\n",
       "      <th>adiposity</th>\n",
       "      <th>typea</th>\n",
       "      <th>obesity</th>\n",
       "      <th>alcohol</th>\n",
       "      <th>age</th>\n",
       "      <th>chd</th>\n",
       "    </tr>\n",
       "  </thead>\n",
       "  <tbody>\n",
       "    <tr>\n",
       "      <th>count</th>\n",
       "      <td>462.000000</td>\n",
       "      <td>462.000000</td>\n",
       "      <td>462.000000</td>\n",
       "      <td>462.000000</td>\n",
       "      <td>462.000000</td>\n",
       "      <td>462.000000</td>\n",
       "      <td>462.000000</td>\n",
       "      <td>462.000000</td>\n",
       "      <td>462.000000</td>\n",
       "    </tr>\n",
       "    <tr>\n",
       "      <th>mean</th>\n",
       "      <td>138.326840</td>\n",
       "      <td>3.635649</td>\n",
       "      <td>4.740325</td>\n",
       "      <td>25.406732</td>\n",
       "      <td>53.103896</td>\n",
       "      <td>26.044113</td>\n",
       "      <td>17.044394</td>\n",
       "      <td>42.816017</td>\n",
       "      <td>0.346320</td>\n",
       "    </tr>\n",
       "    <tr>\n",
       "      <th>std</th>\n",
       "      <td>20.496317</td>\n",
       "      <td>4.593024</td>\n",
       "      <td>2.070909</td>\n",
       "      <td>7.780699</td>\n",
       "      <td>9.817534</td>\n",
       "      <td>4.213680</td>\n",
       "      <td>24.481059</td>\n",
       "      <td>14.608956</td>\n",
       "      <td>0.476313</td>\n",
       "    </tr>\n",
       "    <tr>\n",
       "      <th>min</th>\n",
       "      <td>101.000000</td>\n",
       "      <td>0.000000</td>\n",
       "      <td>0.980000</td>\n",
       "      <td>6.740000</td>\n",
       "      <td>13.000000</td>\n",
       "      <td>14.700000</td>\n",
       "      <td>0.000000</td>\n",
       "      <td>15.000000</td>\n",
       "      <td>0.000000</td>\n",
       "    </tr>\n",
       "    <tr>\n",
       "      <th>25%</th>\n",
       "      <td>124.000000</td>\n",
       "      <td>0.052500</td>\n",
       "      <td>3.282500</td>\n",
       "      <td>19.775000</td>\n",
       "      <td>47.000000</td>\n",
       "      <td>22.985000</td>\n",
       "      <td>0.510000</td>\n",
       "      <td>31.000000</td>\n",
       "      <td>0.000000</td>\n",
       "    </tr>\n",
       "    <tr>\n",
       "      <th>50%</th>\n",
       "      <td>134.000000</td>\n",
       "      <td>2.000000</td>\n",
       "      <td>4.340000</td>\n",
       "      <td>26.115000</td>\n",
       "      <td>53.000000</td>\n",
       "      <td>25.805000</td>\n",
       "      <td>7.510000</td>\n",
       "      <td>45.000000</td>\n",
       "      <td>0.000000</td>\n",
       "    </tr>\n",
       "    <tr>\n",
       "      <th>75%</th>\n",
       "      <td>148.000000</td>\n",
       "      <td>5.500000</td>\n",
       "      <td>5.790000</td>\n",
       "      <td>31.227500</td>\n",
       "      <td>60.000000</td>\n",
       "      <td>28.497500</td>\n",
       "      <td>23.892500</td>\n",
       "      <td>55.000000</td>\n",
       "      <td>1.000000</td>\n",
       "    </tr>\n",
       "    <tr>\n",
       "      <th>max</th>\n",
       "      <td>218.000000</td>\n",
       "      <td>31.200000</td>\n",
       "      <td>15.330000</td>\n",
       "      <td>42.490000</td>\n",
       "      <td>78.000000</td>\n",
       "      <td>46.580000</td>\n",
       "      <td>147.190000</td>\n",
       "      <td>64.000000</td>\n",
       "      <td>1.000000</td>\n",
       "    </tr>\n",
       "  </tbody>\n",
       "</table>\n",
       "</div>"
      ],
      "text/plain": [
       "              sbp     tobacco         ldl   adiposity       typea     obesity  \\\n",
       "count  462.000000  462.000000  462.000000  462.000000  462.000000  462.000000   \n",
       "mean   138.326840    3.635649    4.740325   25.406732   53.103896   26.044113   \n",
       "std     20.496317    4.593024    2.070909    7.780699    9.817534    4.213680   \n",
       "min    101.000000    0.000000    0.980000    6.740000   13.000000   14.700000   \n",
       "25%    124.000000    0.052500    3.282500   19.775000   47.000000   22.985000   \n",
       "50%    134.000000    2.000000    4.340000   26.115000   53.000000   25.805000   \n",
       "75%    148.000000    5.500000    5.790000   31.227500   60.000000   28.497500   \n",
       "max    218.000000   31.200000   15.330000   42.490000   78.000000   46.580000   \n",
       "\n",
       "          alcohol         age         chd  \n",
       "count  462.000000  462.000000  462.000000  \n",
       "mean    17.044394   42.816017    0.346320  \n",
       "std     24.481059   14.608956    0.476313  \n",
       "min      0.000000   15.000000    0.000000  \n",
       "25%      0.510000   31.000000    0.000000  \n",
       "50%      7.510000   45.000000    0.000000  \n",
       "75%     23.892500   55.000000    1.000000  \n",
       "max    147.190000   64.000000    1.000000  "
      ]
     },
     "execution_count": 7,
     "metadata": {},
     "output_type": "execute_result"
    }
   ],
   "source": [
    "#análisis descriptivo mediante .describe()\n",
    "df.describe()"
   ]
  },
  {
   "cell_type": "markdown",
   "id": "6c3a15d4",
   "metadata": {},
   "source": [
    "________"
   ]
  },
  {
   "cell_type": "markdown",
   "id": "3deee56c",
   "metadata": {},
   "source": [
    "## <font color='MediumSeaGreen'>Desafío 2</font> "
   ]
  },
  {
   "attachments": {
    "image.png": {
     "image/png": "[encoded data removed]"
    }
   },
   "cell_type": "markdown",
   "id": "29a598fa",
   "metadata": {},
   "source": [
    "A continuación se presenta el siguiente modelo a estimar:\n",
    "    \n",
    "![image.png](attachment:image.png)\n",
    "\n",
    "Para ello ejecute los siguientes pasos:\n",
    "\n",
    "1. Recodifique <span style='background:gainsboro'><font color='dimgray'>famhist</font></span> a dummy, asignando 1 a la categoría minoritaria.\n",
    "2. Utilice <span style='background:gainsboro'><font color='dimgray'>smf.logit</font></span> para estimar el modelo.\n",
    "3. Implemente una función <span style='background:gainsboro'><font color='dimgray'>inverse_logit</font></span> que realice el mapeo de log-odds a probabilidad.\n",
    "4. Con el modelo estimado, responda lo siguiente:\n",
    " - ¿Cuál es la probabilidad de un individuo con antecedentes familiares de tener una enfermedad coronaria?\n",
    " - ¿Cuál es la probabilidad de un individuo sin antecedentes familiares de tener una enfermedad coronaria?\n",
    " - ¿Cuál es la diferencia en la probabilidad entre un individuo con antecedentes y otro sin antecedentes?\n",
    " - Replique el modelo con <span style='background:gainsboro'><font color='dimgray'>smf.ols</font></span> y comente las similitudes entre los coeficientes estimados.\n",
    "**Tip**: Utilice β/4"
   ]
  },
  {
   "cell_type": "code",
   "execution_count": 8,
   "id": "c566720f",
   "metadata": {},
   "outputs": [
    {
     "data": {
      "text/plain": [
       "Absent     270\n",
       "Present    192\n",
       "Name: famhist, dtype: int64"
      ]
     },
     "execution_count": 8,
     "metadata": {},
     "output_type": "execute_result"
    }
   ],
   "source": [
    "#revisamos la columna 'famhist'\n",
    "df['famhist'].value_counts()"
   ]
  },
  {
   "cell_type": "code",
   "execution_count": 9,
   "id": "b3d01782",
   "metadata": {},
   "outputs": [],
   "source": [
    "#binarizamos la columna 'famhist' por la clase menos frecuente\n",
    "df['famhist_p'] = np.where(df['famhist'] == 'Present', 1, 0)"
   ]
  },
  {
   "cell_type": "markdown",
   "id": "68561d59",
   "metadata": {},
   "source": [
    "**2.-Utilice smf.logit para estimar el modelo.**"
   ]
  },
  {
   "cell_type": "code",
   "execution_count": 10,
   "id": "98fa5e1b",
   "metadata": {
    "scrolled": true
   },
   "outputs": [
    {
     "name": "stdout",
     "output_type": "stream",
     "text": [
      "Optimization terminated successfully.\n",
      "         Current function value: 0.608111\n",
      "         Iterations 5\n"
     ]
    }
   ],
   "source": [
    "#creamos y entrenamos el modelo logistico \n",
    "m1_logit = smf.logit('chd ~ famhist_p', df).fit()"
   ]
  },
  {
   "cell_type": "markdown",
   "id": "7f0a0a32",
   "metadata": {},
   "source": [
    "**3.-Implemente una función inverse_logit que realice el mapeo de log-odds a probabilidad.**"
   ]
  },
  {
   "cell_type": "code",
   "execution_count": 11,
   "id": "1b0bcfeb",
   "metadata": {},
   "outputs": [],
   "source": [
    "#definimos la funcion concise_summary en base a la lectura\n",
    "def concise_summary(mod, print_fit=True):\n",
    "    #guardamos los parámetros asociados a estadísticas de ajuste\n",
    "    fit = pd.DataFrame({'Statistics': mod.summary2().tables[0][2][2:],\n",
    "    'Value': mod.summary2().tables[0][3][2:]})\n",
    "    # guardamos los parámetros estimados por cada regresor.\n",
    "    estimates = pd.DataFrame(mod.summary2().tables[1])\n",
    "    # imprimir fit es opcional\n",
    "    if print_fit is True:\n",
    "        print(\"\\nGoodness of Fit statistics\\n\", fit)\n",
    "        print(\"\\nPoint Estimates\\n\\n\", estimates)"
   ]
  },
  {
   "cell_type": "code",
   "execution_count": 12,
   "id": "cd2d2860",
   "metadata": {},
   "outputs": [
    {
     "name": "stdout",
     "output_type": "stream",
     "text": [
      "\n",
      "Goodness of Fit statistics\n",
      "         Statistics       Value\n",
      "2             BIC:    574.1655\n",
      "3  Log-Likelihood:     -280.95\n",
      "4         LL-Null:     -298.05\n",
      "5     LLR p-value:  4.9371e-09\n",
      "6           Scale:      1.0000\n",
      "7                             \n",
      "\n",
      "Point Estimates\n",
      "\n",
      "               Coef.  Std.Err.         z         P>|z|    [0.025    0.975]\n",
      "Intercept -1.168993  0.143106 -8.168713  3.116957e-16 -1.449476 -0.888510\n",
      "famhist_p  1.168993  0.203255  5.751355  8.853123e-09  0.770620  1.567366\n"
     ]
    }
   ],
   "source": [
    "#utilizamos smf.logit para estimar el modelo\n",
    "concise_summary(m1_logit)"
   ]
  },
  {
   "cell_type": "code",
   "execution_count": 13,
   "id": "b7230dcc",
   "metadata": {},
   "outputs": [],
   "source": [
    "#creamos la funcion inverse_logit\n",
    "def inverse_logit(x):\n",
    "    return 1 / (1+np.exp(-x))"
   ]
  },
  {
   "cell_type": "markdown",
   "id": "61892fb9",
   "metadata": {},
   "source": [
    "**4.Con el modelo estimado, responda lo siguiente:**"
   ]
  },
  {
   "cell_type": "markdown",
   "id": "54a625d8",
   "metadata": {},
   "source": [
    "**¿Cuál es la probabilidad de un individuo con antecedentes familiares de tener una enfermedad coronaria?**"
   ]
  },
  {
   "cell_type": "code",
   "execution_count": 14,
   "id": "a74e2e3a",
   "metadata": {},
   "outputs": [
    {
     "data": {
      "text/plain": [
       "0.237"
      ]
     },
     "execution_count": 14,
     "metadata": {},
     "output_type": "execute_result"
    }
   ],
   "source": [
    "#obtenemos la probabilidad de un individuo sin antecedentes familiares\n",
    "isaf = round(inverse_logit(-1.168993), 4)\n",
    "isaf"
   ]
  },
  {
   "cell_type": "markdown",
   "id": "48be8604",
   "metadata": {},
   "source": [
    "*La probabilidad de un individuo sin antecedentes familiares de obtener una enfermedad coronaria es de  23.7%*"
   ]
  },
  {
   "cell_type": "markdown",
   "id": "c51e21c6",
   "metadata": {},
   "source": [
    "**¿Cuál es la probabilidad de un individuo sin antecedentes familiares de tener una enfermedad coronaria?**"
   ]
  },
  {
   "cell_type": "code",
   "execution_count": 15,
   "id": "2ddead67",
   "metadata": {},
   "outputs": [
    {
     "data": {
      "text/plain": [
       "0.5"
      ]
     },
     "execution_count": 15,
     "metadata": {},
     "output_type": "execute_result"
    }
   ],
   "source": [
    "#obtenemos la probabilidad de un individuo con antencentes familiares\n",
    "icaf = round(inverse_logit(-1.168993+1.168993), 4)\n",
    "icaf"
   ]
  },
  {
   "cell_type": "markdown",
   "id": "1c6c84d6",
   "metadata": {},
   "source": [
    "*La probabilidad de un individuo con antecedentes familiares de obtener una enfermedad coronaria es de 50%*"
   ]
  },
  {
   "cell_type": "markdown",
   "id": "42fdec4f",
   "metadata": {},
   "source": [
    "**¿Cuál es la diferencia en la probabilidad entre un individuo con antecedentes y otro sin antecedentes?**"
   ]
  },
  {
   "cell_type": "code",
   "execution_count": 16,
   "id": "ce9f2582",
   "metadata": {},
   "outputs": [
    {
     "data": {
      "text/plain": [
       "0.263"
      ]
     },
     "execution_count": 16,
     "metadata": {},
     "output_type": "execute_result"
    }
   ],
   "source": [
    "#obtenemos la diferencia entre un individuo con y uno sin antecedentes familiares\n",
    "icaf - isaf"
   ]
  },
  {
   "cell_type": "markdown",
   "id": "cbf62cca",
   "metadata": {},
   "source": [
    "*La diferencia en la probabilidad de obtener una enfermedad coronariaentre entre un individuo con antecedentes familiares y otro sin antecedentes familiares es de 26.3%*"
   ]
  },
  {
   "cell_type": "markdown",
   "id": "14993a99",
   "metadata": {},
   "source": [
    "**Replique el modelo con smf.ols y comente las similitudes entre los coeficientes estimados.**"
   ]
  },
  {
   "cell_type": "code",
   "execution_count": 17,
   "id": "a2b87a0f",
   "metadata": {},
   "outputs": [],
   "source": [
    "#creamos el modelo con smf.ols\n",
    "m1_ols = smf.ols('chd ~ famhist_p', df).fit()"
   ]
  },
  {
   "cell_type": "code",
   "execution_count": 18,
   "id": "0170cb15",
   "metadata": {
    "scrolled": true
   },
   "outputs": [
    {
     "name": "stdout",
     "output_type": "stream",
     "text": [
      "\n",
      "Goodness of Fit statistics\n",
      "             Statistics     Value\n",
      "2                 BIC:  601.4437\n",
      "3      Log-Likelihood:   -294.59\n",
      "4         F-statistic:     36.86\n",
      "5  Prob (F-statistic):  2.66e-09\n",
      "6               Scale:   0.21050\n",
      "\n",
      "Point Estimates\n",
      "\n",
      "               Coef.  Std.Err.         t         P>|t|    [0.025    0.975]\n",
      "Intercept  0.237037  0.027922  8.489319  2.886599e-16  0.182167  0.291907\n",
      "famhist_p  0.262963  0.043313  6.071289  2.657629e-09  0.177848  0.348078\n"
     ]
    }
   ],
   "source": [
    "concise_summary(m1_ols)"
   ]
  },
  {
   "cell_type": "code",
   "execution_count": 19,
   "id": "0683d62f",
   "metadata": {},
   "outputs": [
    {
     "data": {
      "text/plain": [
       "0.5"
      ]
     },
     "execution_count": 19,
     "metadata": {},
     "output_type": "execute_result"
    }
   ],
   "source": [
    "#sumamos el intercepto y famhist_p\n",
    "probabilidad = 0.237037 + 0.262963\n",
    "probabilidad"
   ]
  },
  {
   "cell_type": "code",
   "execution_count": 20,
   "id": "2d3a6469",
   "metadata": {},
   "outputs": [
    {
     "data": {
      "text/plain": [
       "0.5"
      ]
     },
     "execution_count": 20,
     "metadata": {},
     "output_type": "execute_result"
    }
   ],
   "source": [
    "round(probabilidad, 4)"
   ]
  },
  {
   "cell_type": "markdown",
   "id": "9992d095",
   "metadata": {},
   "source": [
    "*En ambos modelos la probabilidad de un individuo con antecedentes familiares de obtener una enfermedad coronaria es aproximadamente de 50%*"
   ]
  },
  {
   "cell_type": "code",
   "execution_count": 21,
   "id": "d8f0f480",
   "metadata": {},
   "outputs": [
    {
     "data": {
      "text/plain": [
       "0.29224825"
      ]
     },
     "execution_count": 21,
     "metadata": {},
     "output_type": "execute_result"
    }
   ],
   "source": [
    "#Aplicamos la regla beta/4\n",
    "1.168993/4"
   ]
  },
  {
   "cell_type": "markdown",
   "id": "038491d7",
   "metadata": {},
   "source": [
    "*Se observa que aplicando 𝛽/4  al coeficiente de 'famhist_p', el resultado es simmilar al que se obtiene en el modelo smf.ols*"
   ]
  },
  {
   "cell_type": "markdown",
   "id": "7ed19cba",
   "metadata": {},
   "source": [
    "__________"
   ]
  },
  {
   "cell_type": "markdown",
   "id": "6495926f",
   "metadata": {},
   "source": [
    "## <font color='MediumSeaGreen'>Desafío 3: Estimación completa</font> "
   ]
  },
  {
   "cell_type": "markdown",
   "id": "a8c80a86",
   "metadata": {},
   "source": [
    "Implemente un modelo con la siguiente forma:\n",
    "$$ \\log \\left(\\frac{Pr(chd=1)}{1-Pr(chd=1)}\\right) = \\beta_{0} + \\sum_{j=1}^{N} \\beta_{j} \\times X $$\n",
    "\n",
    "● Depure el modelo manteniendo las variables con significancia estadística al 5%.\n",
    "\n",
    "● Compare los estadísticos de bondad de ajuste entre ambos.\n",
    "\n",
    "● Reporte de forma sucinta el efecto de las variables en el log-odds de tener una enfermedad coronaria."
   ]
  },
  {
   "cell_type": "code",
   "execution_count": 22,
   "id": "e98da154",
   "metadata": {},
   "outputs": [
    {
     "data": {
      "text/plain": [
       "'sbp+tobacco+ldl+adiposity+typea+obesity+alcohol+age+famhist_p'"
      ]
     },
     "execution_count": 22,
     "metadata": {},
     "output_type": "execute_result"
    }
   ],
   "source": [
    "#obtenemos las variables para clasificacion\n",
    "columnas = list(df.columns)\n",
    "columnas.remove('chd')\n",
    "columnas.remove('famhist')\n",
    "variables_sumadas = \"+\".join(columnas)\n",
    "variables_sumadas"
   ]
  },
  {
   "cell_type": "code",
   "execution_count": 23,
   "id": "5a5f6e66",
   "metadata": {},
   "outputs": [
    {
     "name": "stdout",
     "output_type": "stream",
     "text": [
      "Optimization terminated successfully.\n",
      "         Current function value: 0.510974\n",
      "         Iterations 6\n"
     ]
    }
   ],
   "source": [
    "#creamos y entrenamos el modelo saturado\n",
    "m2_logit = smf.logit('chd ~ '+variables_sumadas, df).fit()"
   ]
  },
  {
   "cell_type": "markdown",
   "id": "8a1489eb",
   "metadata": {},
   "source": [
    "### Depure el modelo manteniendo las variables con significancia estadística al 5%"
   ]
  },
  {
   "cell_type": "code",
   "execution_count": 24,
   "id": "96f177fe",
   "metadata": {
    "scrolled": true
   },
   "outputs": [
    {
     "data": {
      "text/html": [
       "<table class=\"simpletable\">\n",
       "<tr>\n",
       "        <td>Model:</td>              <td>Logit</td>      <td>Pseudo R-squared:</td>    <td>0.208</td>  \n",
       "</tr>\n",
       "<tr>\n",
       "  <td>Dependent Variable:</td>        <td>chd</td>             <td>AIC:</td>         <td>492.1400</td> \n",
       "</tr>\n",
       "<tr>\n",
       "         <td>Date:</td>        <td>2022-07-13 02:34</td>       <td>BIC:</td>         <td>533.4957</td> \n",
       "</tr>\n",
       "<tr>\n",
       "   <td>No. Observations:</td>         <td>462</td>        <td>Log-Likelihood:</td>    <td>-236.07</td> \n",
       "</tr>\n",
       "<tr>\n",
       "       <td>Df Model:</td>              <td>9</td>            <td>LL-Null:</td>        <td>-298.05</td> \n",
       "</tr>\n",
       "<tr>\n",
       "     <td>Df Residuals:</td>           <td>452</td>         <td>LLR p-value:</td>    <td>2.0548e-22</td>\n",
       "</tr>\n",
       "<tr>\n",
       "      <td>Converged:</td>           <td>1.0000</td>           <td>Scale:</td>         <td>1.0000</td>  \n",
       "</tr>\n",
       "<tr>\n",
       "    <td>No. Iterations:</td>        <td>6.0000</td>              <td></td>               <td></td>     \n",
       "</tr>\n",
       "</table>\n",
       "<table class=\"simpletable\">\n",
       "<tr>\n",
       "      <td></td>       <th>Coef.</th>  <th>Std.Err.</th>    <th>z</th>     <th>P>|z|</th> <th>[0.025</th>  <th>0.975]</th> \n",
       "</tr>\n",
       "<tr>\n",
       "  <th>Intercept</th> <td>-6.1507</td>  <td>1.3083</td>  <td>-4.7015</td> <td>0.0000</td> <td>-8.7149</td> <td>-3.5866</td>\n",
       "</tr>\n",
       "<tr>\n",
       "  <th>sbp</th>       <td>0.0065</td>   <td>0.0057</td>  <td>1.1350</td>  <td>0.2564</td> <td>-0.0047</td> <td>0.0177</td> \n",
       "</tr>\n",
       "<tr>\n",
       "  <th>tobacco</th>   <td>0.0794</td>   <td>0.0266</td>  <td>2.9838</td>  <td>0.0028</td> <td>0.0272</td>  <td>0.1315</td> \n",
       "</tr>\n",
       "<tr>\n",
       "  <th>ldl</th>       <td>0.1739</td>   <td>0.0597</td>  <td>2.9152</td>  <td>0.0036</td> <td>0.0570</td>  <td>0.2909</td> \n",
       "</tr>\n",
       "<tr>\n",
       "  <th>adiposity</th> <td>0.0186</td>   <td>0.0293</td>  <td>0.6346</td>  <td>0.5257</td> <td>-0.0388</td> <td>0.0760</td> \n",
       "</tr>\n",
       "<tr>\n",
       "  <th>typea</th>     <td>0.0396</td>   <td>0.0123</td>  <td>3.2138</td>  <td>0.0013</td> <td>0.0154</td>  <td>0.0637</td> \n",
       "</tr>\n",
       "<tr>\n",
       "  <th>obesity</th>   <td>-0.0629</td>  <td>0.0442</td>  <td>-1.4218</td> <td>0.1551</td> <td>-0.1496</td> <td>0.0238</td> \n",
       "</tr>\n",
       "<tr>\n",
       "  <th>alcohol</th>   <td>0.0001</td>   <td>0.0045</td>  <td>0.0271</td>  <td>0.9784</td> <td>-0.0087</td> <td>0.0089</td> \n",
       "</tr>\n",
       "<tr>\n",
       "  <th>age</th>       <td>0.0452</td>   <td>0.0121</td>  <td>3.7285</td>  <td>0.0002</td> <td>0.0215</td>  <td>0.0690</td> \n",
       "</tr>\n",
       "<tr>\n",
       "  <th>famhist_p</th> <td>0.9254</td>   <td>0.2279</td>  <td>4.0605</td>  <td>0.0000</td> <td>0.4787</td>  <td>1.3720</td> \n",
       "</tr>\n",
       "</table>"
      ],
      "text/plain": [
       "<class 'statsmodels.iolib.summary2.Summary'>\n",
       "\"\"\"\n",
       "                         Results: Logit\n",
       "=================================================================\n",
       "Model:              Logit            Pseudo R-squared: 0.208     \n",
       "Dependent Variable: chd              AIC:              492.1400  \n",
       "Date:               2022-07-13 02:34 BIC:              533.4957  \n",
       "No. Observations:   462              Log-Likelihood:   -236.07   \n",
       "Df Model:           9                LL-Null:          -298.05   \n",
       "Df Residuals:       452              LLR p-value:      2.0548e-22\n",
       "Converged:          1.0000           Scale:            1.0000    \n",
       "No. Iterations:     6.0000                                       \n",
       "------------------------------------------------------------------\n",
       "               Coef.   Std.Err.     z     P>|z|    [0.025   0.975]\n",
       "------------------------------------------------------------------\n",
       "Intercept     -6.1507    1.3083  -4.7015  0.0000  -8.7149  -3.5866\n",
       "sbp            0.0065    0.0057   1.1350  0.2564  -0.0047   0.0177\n",
       "tobacco        0.0794    0.0266   2.9838  0.0028   0.0272   0.1315\n",
       "ldl            0.1739    0.0597   2.9152  0.0036   0.0570   0.2909\n",
       "adiposity      0.0186    0.0293   0.6346  0.5257  -0.0388   0.0760\n",
       "typea          0.0396    0.0123   3.2138  0.0013   0.0154   0.0637\n",
       "obesity       -0.0629    0.0442  -1.4218  0.1551  -0.1496   0.0238\n",
       "alcohol        0.0001    0.0045   0.0271  0.9784  -0.0087   0.0089\n",
       "age            0.0452    0.0121   3.7285  0.0002   0.0215   0.0690\n",
       "famhist_p      0.9254    0.2279   4.0605  0.0000   0.4787   1.3720\n",
       "=================================================================\n",
       "\n",
       "\"\"\""
      ]
     },
     "execution_count": 24,
     "metadata": {},
     "output_type": "execute_result"
    }
   ],
   "source": [
    "#revisamos el modelo saturado\n",
    "m2_logit.summary2()"
   ]
  },
  {
   "cell_type": "code",
   "execution_count": 25,
   "id": "8fdd6c8c",
   "metadata": {},
   "outputs": [
    {
     "name": "stdout",
     "output_type": "stream",
     "text": [
      "Optimization terminated successfully.\n",
      "         Current function value: 0.514811\n",
      "         Iterations 6\n"
     ]
    }
   ],
   "source": [
    "#depuramos por variablas con significancia del 95%\n",
    "variables_significativas = 'tobacco + ldl + typea + age + famhist_p'\n",
    "m2_logit_depurado = smf.logit('chd ~ '+variables_significativas, df).fit()"
   ]
  },
  {
   "cell_type": "code",
   "execution_count": 26,
   "id": "d01e862f",
   "metadata": {
    "scrolled": true
   },
   "outputs": [
    {
     "data": {
      "text/html": [
       "<table class=\"simpletable\">\n",
       "<tr>\n",
       "        <td>Model:</td>              <td>Logit</td>      <td>Pseudo R-squared:</td>    <td>0.202</td>  \n",
       "</tr>\n",
       "<tr>\n",
       "  <td>Dependent Variable:</td>        <td>chd</td>             <td>AIC:</td>         <td>487.6856</td> \n",
       "</tr>\n",
       "<tr>\n",
       "         <td>Date:</td>        <td>2022-07-13 02:34</td>       <td>BIC:</td>         <td>512.4990</td> \n",
       "</tr>\n",
       "<tr>\n",
       "   <td>No. Observations:</td>         <td>462</td>        <td>Log-Likelihood:</td>    <td>-237.84</td> \n",
       "</tr>\n",
       "<tr>\n",
       "       <td>Df Model:</td>              <td>5</td>            <td>LL-Null:</td>        <td>-298.05</td> \n",
       "</tr>\n",
       "<tr>\n",
       "     <td>Df Residuals:</td>           <td>456</td>         <td>LLR p-value:</td>    <td>2.5537e-24</td>\n",
       "</tr>\n",
       "<tr>\n",
       "      <td>Converged:</td>           <td>1.0000</td>           <td>Scale:</td>         <td>1.0000</td>  \n",
       "</tr>\n",
       "<tr>\n",
       "    <td>No. Iterations:</td>        <td>6.0000</td>              <td></td>               <td></td>     \n",
       "</tr>\n",
       "</table>\n",
       "<table class=\"simpletable\">\n",
       "<tr>\n",
       "      <td></td>       <th>Coef.</th>  <th>Std.Err.</th>    <th>z</th>     <th>P>|z|</th> <th>[0.025</th>  <th>0.975]</th> \n",
       "</tr>\n",
       "<tr>\n",
       "  <th>Intercept</th> <td>-6.4464</td>  <td>0.9209</td>  <td>-7.0004</td> <td>0.0000</td> <td>-8.2513</td> <td>-4.6416</td>\n",
       "</tr>\n",
       "<tr>\n",
       "  <th>tobacco</th>   <td>0.0804</td>   <td>0.0259</td>  <td>3.1057</td>  <td>0.0019</td> <td>0.0297</td>  <td>0.1311</td> \n",
       "</tr>\n",
       "<tr>\n",
       "  <th>ldl</th>       <td>0.1620</td>   <td>0.0550</td>  <td>2.9470</td>  <td>0.0032</td> <td>0.0543</td>  <td>0.2697</td> \n",
       "</tr>\n",
       "<tr>\n",
       "  <th>typea</th>     <td>0.0371</td>   <td>0.0122</td>  <td>3.0505</td>  <td>0.0023</td> <td>0.0133</td>  <td>0.0610</td> \n",
       "</tr>\n",
       "<tr>\n",
       "  <th>age</th>       <td>0.0505</td>   <td>0.0102</td>  <td>4.9442</td>  <td>0.0000</td> <td>0.0305</td>  <td>0.0705</td> \n",
       "</tr>\n",
       "<tr>\n",
       "  <th>famhist_p</th> <td>0.9082</td>   <td>0.2258</td>  <td>4.0228</td>  <td>0.0001</td> <td>0.4657</td>  <td>1.3507</td> \n",
       "</tr>\n",
       "</table>"
      ],
      "text/plain": [
       "<class 'statsmodels.iolib.summary2.Summary'>\n",
       "\"\"\"\n",
       "                         Results: Logit\n",
       "=================================================================\n",
       "Model:              Logit            Pseudo R-squared: 0.202     \n",
       "Dependent Variable: chd              AIC:              487.6856  \n",
       "Date:               2022-07-13 02:34 BIC:              512.4990  \n",
       "No. Observations:   462              Log-Likelihood:   -237.84   \n",
       "Df Model:           5                LL-Null:          -298.05   \n",
       "Df Residuals:       456              LLR p-value:      2.5537e-24\n",
       "Converged:          1.0000           Scale:            1.0000    \n",
       "No. Iterations:     6.0000                                       \n",
       "------------------------------------------------------------------\n",
       "               Coef.   Std.Err.     z     P>|z|    [0.025   0.975]\n",
       "------------------------------------------------------------------\n",
       "Intercept     -6.4464    0.9209  -7.0004  0.0000  -8.2513  -4.6416\n",
       "tobacco        0.0804    0.0259   3.1057  0.0019   0.0297   0.1311\n",
       "ldl            0.1620    0.0550   2.9470  0.0032   0.0543   0.2697\n",
       "typea          0.0371    0.0122   3.0505  0.0023   0.0133   0.0610\n",
       "age            0.0505    0.0102   4.9442  0.0000   0.0305   0.0705\n",
       "famhist_p      0.9082    0.2258   4.0228  0.0001   0.4657   1.3507\n",
       "=================================================================\n",
       "\n",
       "\"\"\""
      ]
     },
     "execution_count": 26,
     "metadata": {},
     "output_type": "execute_result"
    }
   ],
   "source": [
    "m2_logit_depurado.summary2()"
   ]
  },
  {
   "cell_type": "markdown",
   "id": "fce6e6ef",
   "metadata": {},
   "source": [
    "### Compare los estadísticos de bondad de ajuste entre ambos."
   ]
  },
  {
   "cell_type": "markdown",
   "id": "dff6025e",
   "metadata": {},
   "source": [
    "- Ambos modelos poseen un Pseudo R-squared similar, con una diferencia de: 0.005, lo que no es significativo\n",
    "\n",
    "- Se observa que los estadísticos de bondad (Pseudo R-squared:) de ambos modelos son muy similares (explican la varianza del modelo en aproximadamente un 20%), y solo se diferencian en 0.006. El modelo depurado presenta coeficientes similares de las variables, que aportan a tener una mayor probabilida de contraer enfermedades coronarios, y es de aplicación mas general."
   ]
  },
  {
   "cell_type": "markdown",
   "id": "d43ed1f2",
   "metadata": {},
   "source": [
    "### Reporte de forma sucinta el efecto de las variables en el log-odds de tener una enfermedad coronaria."
   ]
  },
  {
   "cell_type": "code",
   "execution_count": 27,
   "id": "8d595d37",
   "metadata": {},
   "outputs": [],
   "source": [
    "#obtenemos los coeficientes por variable\n",
    "coeficientes = m2_logit_depurado.params"
   ]
  },
  {
   "cell_type": "code",
   "execution_count": 28,
   "id": "c6ba163f",
   "metadata": {},
   "outputs": [
    {
     "data": {
      "text/plain": [
       "Intercept   -6.446445\n",
       "tobacco      0.080375\n",
       "ldl          0.161992\n",
       "typea        0.037115\n",
       "age          0.050460\n",
       "famhist_p    0.908175\n",
       "dtype: float64"
      ]
     },
     "execution_count": 28,
     "metadata": {},
     "output_type": "execute_result"
    }
   ],
   "source": [
    "#revisamos los betas\n",
    "m2_logit_depurado.params"
   ]
  },
  {
   "cell_type": "code",
   "execution_count": 29,
   "id": "65175582",
   "metadata": {
    "scrolled": true
   },
   "outputs": [
    {
     "data": {
      "text/plain": [
       "Intercept    0.0000\n",
       "tobacco      0.0017\n",
       "ldl          0.0019\n",
       "typea        0.0016\n",
       "age          0.0017\n",
       "famhist_p    0.0039\n",
       "dtype: float64"
      ]
     },
     "execution_count": 29,
     "metadata": {},
     "output_type": "execute_result"
    }
   ],
   "source": [
    "#aplicamos el log inverso a los coeficientes\n",
    "coeficientes.map(lambda x: round(inverse_logit(m2_logit_depurado.params['Intercept'] + x), 4))"
   ]
  },
  {
   "cell_type": "markdown",
   "id": "dec16bab",
   "metadata": {},
   "source": [
    "Se observa que en todas las variables la adición de una unidad incrementa en aproximadamente 0.17% la probabilida de contraer una enfermedad coronaria por cada unidad adicional, con la salvedad de la presencia de antecedentes familiares, que de existir incrementan la probabilidad en 0.39%"
   ]
  },
  {
   "cell_type": "markdown",
   "id": "f19be3b1",
   "metadata": {},
   "source": [
    "__________"
   ]
  },
  {
   "cell_type": "markdown",
   "id": "6e284814",
   "metadata": {},
   "source": [
    "## <font color='MediumSeaGreen'>Desafío 4: Estimación de perfiles</font> "
   ]
  },
  {
   "cell_type": "markdown",
   "id": "7cbdb5b5",
   "metadata": {},
   "source": [
    "A partir del modelo depurado, genere las estimaciones en log-odds y posteriormente transfórmelas a probabilidades con <span style='background:gainsboro'><font color='dimgray'>inverse_logit</font></span>. Los perfiles a estimar son los siguientes:\n",
    "\n",
    "● La probabilidad de tener una enfermedad coronaria para un individuo con características similares a la muestra.\n",
    "\n",
    "● La probabilidad de tener una enfermedad coronaria para un individuo con altos niveles de lipoproteína de baja densidad, **manteniendo todas las demás características constantes**.\n",
    "\n",
    "● La probabilidad de tener una enfermedad coronaria para un individuo con bajos niveles de lipoproteína de baja densidad, **manteniendo todas las demás características constantes**."
   ]
  },
  {
   "cell_type": "code",
   "execution_count": 30,
   "id": "21604098",
   "metadata": {},
   "outputs": [],
   "source": [
    "#obtenemos los valores del individuo promedio para las variables continuas significativas\n",
    "#consideraremos la probabilidad de corte para estimar la ocurrencia normal de famhist_p como > 50%\n",
    "medias = {\n",
    "    'tobacco': df['tobacco'].mean(),\n",
    "    'ldl' : df['ldl'].mean(),\n",
    "    'typea': df['typea'].mean(),\n",
    "    'age': df['age'].mean(),\n",
    "    'famhist_p': 1 if df['famhist_p'].value_counts('%')[1] > 0.5 else 0\n",
    "    \n",
    "}"
   ]
  },
  {
   "cell_type": "code",
   "execution_count": 31,
   "id": "818d2a4c",
   "metadata": {},
   "outputs": [
    {
     "data": {
      "text/plain": [
       "{'tobacco': 3.635649350649351,\n",
       " 'ldl': 4.740324675324675,\n",
       " 'typea': 53.103896103896105,\n",
       " 'age': 42.816017316017316,\n",
       " 'famhist_p': 0}"
      ]
     },
     "execution_count": 31,
     "metadata": {},
     "output_type": "execute_result"
    }
   ],
   "source": [
    "medias"
   ]
  },
  {
   "cell_type": "code",
   "execution_count": 32,
   "id": "c5e22392",
   "metadata": {},
   "outputs": [],
   "source": [
    "#definimos nuestra funcion predictora. \n",
    "#no obstante el individuo promedio no tiene antecedentes familiares, consereraremos ambos casos\n",
    "def predice_por_individuo(modelo_logit, medias):\n",
    "    probabilidad_chd_individio_con_famhist_p = round(inverse_logit(\n",
    "        + modelo_logit.params['Intercept']\n",
    "        + (modelo_logit.params['tobacco'] * medias['tobacco'])\n",
    "        + (modelo_logit.params['ldl'] * medias['ldl'])\n",
    "        + (modelo_logit.params['typea'] * medias['typea'])\n",
    "        + (modelo_logit.params['age'] * medias['age'])\n",
    "        + (modelo_logit.params['famhist_p'] * 1)  \n",
    "    ), 4)\n",
    "    probabilidad_chd_individio_sin_famhist_p = round(inverse_logit(\n",
    "        + modelo_logit.params['Intercept']\n",
    "        + (modelo_logit.params['tobacco'] * medias['tobacco'])\n",
    "        + (modelo_logit.params['ldl'] * medias['ldl'])\n",
    "        + (modelo_logit.params['typea'] * medias['typea'])\n",
    "        + (modelo_logit.params['age'] * medias['age'])\n",
    "        + (modelo_logit.params['famhist_p'] * 0)  \n",
    "    ),4)\n",
    "    print(\"Probabilidad de chd para individuo promedio\")\n",
    "    print(f\"\\033[1mCon\\033[0m historial familiar {probabilidad_chd_individio_con_famhist_p}\")\n",
    "    print(f\"\\033[1mSin\\033[0m historial familiar {probabilidad_chd_individio_sin_famhist_p}\")"
   ]
  },
  {
   "cell_type": "markdown",
   "id": "22c08d31",
   "metadata": {},
   "source": [
    "### La probabilidad de tener una enfermedad coronaria para un individuo con características similares a la muestra."
   ]
  },
  {
   "cell_type": "code",
   "execution_count": 33,
   "id": "33c1eae7",
   "metadata": {},
   "outputs": [
    {
     "name": "stdout",
     "output_type": "stream",
     "text": [
      "Probabilidad de chd para individuo promedio\n",
      "\u001b[1mCon\u001b[0m historial familiar 0.4142\n",
      "\u001b[1mSin\u001b[0m historial familiar 0.2219\n"
     ]
    }
   ],
   "source": [
    "predice_por_individuo(m2_logit_depurado, medias)"
   ]
  },
  {
   "cell_type": "markdown",
   "id": "dab7de8f",
   "metadata": {},
   "source": [
    "La probabilidad de tener una enfermedad coronaria de un individuo con características similares a la muestra es de:\n",
    "* 22.19% sin antecedentes familiares\n",
    "* 41.42% con antecedentes familiares\n",
    "    "
   ]
  },
  {
   "cell_type": "markdown",
   "id": "e9b86d2c",
   "metadata": {},
   "source": [
    "### La probabilidad de tener una enfermedad coronaria para un individuo con altos niveles de lipoproteína de baja densidad, manteniendo todas las demás características constantes."
   ]
  },
  {
   "cell_type": "code",
   "execution_count": 34,
   "id": "0d3c3bf1",
   "metadata": {},
   "outputs": [
    {
     "name": "stdout",
     "output_type": "stream",
     "text": [
      "Probabilidad de chd para individuo promedio\n",
      "\u001b[1mCon\u001b[0m historial familiar 0.7972\n",
      "\u001b[1mSin\u001b[0m historial familiar 0.6132\n"
     ]
    }
   ],
   "source": [
    "#obtenemos el valor mas alto de ldl de la muestra\n",
    "medias['ldl'] = df['ldl'].max()\n",
    "predice_por_individuo(m2_logit_depurado, medias)"
   ]
  },
  {
   "cell_type": "markdown",
   "id": "aae8633a",
   "metadata": {},
   "source": [
    "La probabilidad de tener una enfermedad coronaria de un individuo con características similares a la muestra y ALTOS grados de ldl de:\n",
    "* 61.32% si no tiene antecedentes familiares\n",
    "* 79.72% si tiene antecedentes familiares"
   ]
  },
  {
   "cell_type": "markdown",
   "id": "8ac08604",
   "metadata": {},
   "source": [
    "### La probabilidad de tener una enfermedad coronaria para un individuo con bajos niveles de lipoproteína de baja densidad"
   ]
  },
  {
   "cell_type": "code",
   "execution_count": 35,
   "id": "168079f9",
   "metadata": {},
   "outputs": [
    {
     "name": "stdout",
     "output_type": "stream",
     "text": [
      "Probabilidad de chd para individuo promedio\n",
      "\u001b[1mCon\u001b[0m historial familiar 0.2777\n",
      "\u001b[1mSin\u001b[0m historial familiar 0.1342\n"
     ]
    }
   ],
   "source": [
    "#obtenemos el valor mas bajo de ldl de la muestra\n",
    "medias['ldl'] = df['ldl'].min()\n",
    "predice_por_individuo(m2_logit_depurado, medias)"
   ]
  },
  {
   "cell_type": "markdown",
   "id": "ad0a63ad",
   "metadata": {},
   "source": [
    "La probabilidad de tener una enfermedad coronaria de un individuo con características similares a la muestra y BAJOS grados de ldl de:\n",
    "* 13.42% si no tiene antecedentes familiares\n",
    "* 27.77% si tiene antecedentes familiares"
   ]
  },
  {
   "cell_type": "markdown",
   "id": "4aa25283",
   "metadata": {},
   "source": [
    "________"
   ]
  }
 ],
 "metadata": {
  "kernelspec": {
   "display_name": "Python 3",
   "language": "python",
   "name": "python3"
  },
  "language_info": {
   "codemirror_mode": {
    "name": "ipython",
    "version": 3
   },
   "file_extension": ".py",
   "mimetype": "text/x-python",
   "name": "python",
   "nbconvert_exporter": "python",
   "pygments_lexer": "ipython3",
   "version": "3.7.1"
  }
 },
 "nbformat": 4,
 "nbformat_minor": 5
}
